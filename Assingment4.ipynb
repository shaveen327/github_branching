{
 "cells": [
  {
   "cell_type": "code",
   "execution_count": 1,
   "id": "501bb075",
   "metadata": {},
   "outputs": [
    {
     "data": {
      "text/html": [
       "<div>\n",
       "<style scoped>\n",
       "    .dataframe tbody tr th:only-of-type {\n",
       "        vertical-align: middle;\n",
       "    }\n",
       "\n",
       "    .dataframe tbody tr th {\n",
       "        vertical-align: top;\n",
       "    }\n",
       "\n",
       "    .dataframe thead th {\n",
       "        text-align: right;\n",
       "    }\n",
       "</style>\n",
       "<table border=\"1\" class=\"dataframe\">\n",
       "  <thead>\n",
       "    <tr style=\"text-align: right;\">\n",
       "      <th></th>\n",
       "      <th>response_datetime</th>\n",
       "      <th>problem</th>\n",
       "      <th>is_911_call</th>\n",
       "      <th>primary_offense</th>\n",
       "      <th>subject_injury</th>\n",
       "      <th>force_type</th>\n",
       "      <th>force_type_action</th>\n",
       "      <th>race</th>\n",
       "      <th>sex</th>\n",
       "      <th>age</th>\n",
       "      <th>type_resistance</th>\n",
       "      <th>precinct</th>\n",
       "      <th>neighborhood</th>\n",
       "    </tr>\n",
       "  </thead>\n",
       "  <tbody>\n",
       "    <tr>\n",
       "      <th>0</th>\n",
       "      <td>2016/01/01 00:47:36</td>\n",
       "      <td>Assault in Progress</td>\n",
       "      <td>Yes</td>\n",
       "      <td>DASLT1</td>\n",
       "      <td>NaN</td>\n",
       "      <td>Bodily Force</td>\n",
       "      <td>Body Weight to Pin</td>\n",
       "      <td>Black</td>\n",
       "      <td>Male</td>\n",
       "      <td>20.0</td>\n",
       "      <td>Tensed</td>\n",
       "      <td>1</td>\n",
       "      <td>Downtown East</td>\n",
       "    </tr>\n",
       "    <tr>\n",
       "      <th>1</th>\n",
       "      <td>2016/01/01 02:19:34</td>\n",
       "      <td>Fight</td>\n",
       "      <td>No</td>\n",
       "      <td>DISCON</td>\n",
       "      <td>NaN</td>\n",
       "      <td>Chemical Irritant</td>\n",
       "      <td>Personal Mace</td>\n",
       "      <td>Black</td>\n",
       "      <td>Female</td>\n",
       "      <td>27.0</td>\n",
       "      <td>Verbal Non-Compliance</td>\n",
       "      <td>1</td>\n",
       "      <td>Downtown West</td>\n",
       "    </tr>\n",
       "    <tr>\n",
       "      <th>2</th>\n",
       "      <td>2016/01/01 02:19:34</td>\n",
       "      <td>Fight</td>\n",
       "      <td>No</td>\n",
       "      <td>DISCON</td>\n",
       "      <td>NaN</td>\n",
       "      <td>Chemical Irritant</td>\n",
       "      <td>Personal Mace</td>\n",
       "      <td>White</td>\n",
       "      <td>Female</td>\n",
       "      <td>23.0</td>\n",
       "      <td>Verbal Non-Compliance</td>\n",
       "      <td>1</td>\n",
       "      <td>Downtown West</td>\n",
       "    </tr>\n",
       "    <tr>\n",
       "      <th>3</th>\n",
       "      <td>2016/01/01 02:28:48</td>\n",
       "      <td>Fight</td>\n",
       "      <td>No</td>\n",
       "      <td>PRIORI</td>\n",
       "      <td>NaN</td>\n",
       "      <td>Chemical Irritant</td>\n",
       "      <td>Crowd Control Mace</td>\n",
       "      <td>Black</td>\n",
       "      <td>Male</td>\n",
       "      <td>20.0</td>\n",
       "      <td>Commission of Crime</td>\n",
       "      <td>1</td>\n",
       "      <td>Downtown West</td>\n",
       "    </tr>\n",
       "    <tr>\n",
       "      <th>4</th>\n",
       "      <td>2016/01/01 02:28:48</td>\n",
       "      <td>Fight</td>\n",
       "      <td>No</td>\n",
       "      <td>PRIORI</td>\n",
       "      <td>NaN</td>\n",
       "      <td>Chemical Irritant</td>\n",
       "      <td>Crowd Control Mace</td>\n",
       "      <td>Black</td>\n",
       "      <td>Male</td>\n",
       "      <td>20.0</td>\n",
       "      <td>Commission of Crime</td>\n",
       "      <td>1</td>\n",
       "      <td>Downtown West</td>\n",
       "    </tr>\n",
       "  </tbody>\n",
       "</table>\n",
       "</div>"
      ],
      "text/plain": [
       "     response_datetime               problem is_911_call primary_offense  \\\n",
       "0  2016/01/01 00:47:36  Assault in Progress          Yes          DASLT1   \n",
       "1  2016/01/01 02:19:34                Fight           No          DISCON   \n",
       "2  2016/01/01 02:19:34                Fight           No          DISCON   \n",
       "3  2016/01/01 02:28:48                Fight           No          PRIORI   \n",
       "4  2016/01/01 02:28:48                Fight           No          PRIORI   \n",
       "\n",
       "  subject_injury         force_type   force_type_action   race     sex   age  \\\n",
       "0            NaN       Bodily Force  Body Weight to Pin  Black    Male  20.0   \n",
       "1            NaN  Chemical Irritant       Personal Mace  Black  Female  27.0   \n",
       "2            NaN  Chemical Irritant       Personal Mace  White  Female  23.0   \n",
       "3            NaN  Chemical Irritant  Crowd Control Mace  Black    Male  20.0   \n",
       "4            NaN  Chemical Irritant  Crowd Control Mace  Black    Male  20.0   \n",
       "\n",
       "         type_resistance  precinct   neighborhood  \n",
       "0                 Tensed         1  Downtown East  \n",
       "1  Verbal Non-Compliance         1  Downtown West  \n",
       "2  Verbal Non-Compliance         1  Downtown West  \n",
       "3    Commission of Crime         1  Downtown West  \n",
       "4    Commission of Crime         1  Downtown West  "
      ]
     },
     "execution_count": 1,
     "metadata": {},
     "output_type": "execute_result"
    }
   ],
   "source": [
    "import pandas as pd\n",
    "df= pd.read_csv(\"mn_police_use_of_force.csv\")\n",
    "df.head()"
   ]
  },
  {
   "cell_type": "code",
   "execution_count": 2,
   "id": "1c4e1051",
   "metadata": {},
   "outputs": [
    {
     "data": {
      "text/plain": [
       "injury_na\n",
       "True     9848\n",
       "False    3077\n",
       "Name: count, dtype: int64"
      ]
     },
     "execution_count": 2,
     "metadata": {},
     "output_type": "execute_result"
    }
   ],
   "source": [
    "df['injury_na'] = df['subject_injury'].isna() # Create a missing value dummy\n",
    "df['injury_na'].value_counts() # How many missings?"
   ]
  },
  {
   "cell_type": "code",
   "execution_count": 20,
   "id": "1e7b2368",
   "metadata": {},
   "outputs": [],
   "source": [
    "import pandas as pd\n",
    "import numpy as np\n",
    "import requests\n",
    "import json\n",
    "import os\n",
    "import dotenv"
   ]
  },
  {
   "cell_type": "code",
   "execution_count": 9,
   "id": "30ef9d63",
   "metadata": {},
   "outputs": [],
   "source": [
    "url = \"https://www.clinicaltrials.gov/api/v2/stats/field/values?fields=PrimaryOutcomeMeasure\"\n"
   ]
  },
  {
   "cell_type": "code",
   "execution_count": 15,
   "id": "85f759ca",
   "metadata": {},
   "outputs": [
    {
     "name": "stdout",
     "output_type": "stream",
     "text": [
      "Empty DataFrame\n",
      "Columns: [[{\"type\":\"STRING\", piece:\"PrimaryOutcomeMeasure\", field:\"protocolSection.outcomesModule.primaryOutcomes.measure\", missingStudiesCount:17576, longest:{\"value\":\"Percent Change From Baseline in Chemistry Parameters in Combination Treatment Period:ALT,  Albumin,  ALP,  AST,  Calcium,  CO2,  Chloride,  Creatinine,  Direct Bilirubin,  Glucose,  Lactate Dehydrogenase,  Magnesium,  Potassium,  Sodium,  Total Bilirubin,  Total Protein\", length:255, nctId:\"NCT02215096\"}, uniqueValuesCount:816041, topValues:[{\"value\":\"Overall survival\", studiesCount:1244}, {\"value\":\"Mortality\", studiesCount:946}, {\"value\":\"Overall Survival\", studiesCount:838}, {\"value\":\"Cmax\", studiesCount:834}, {\"value\":\"Objective Response Rate (ORR)\", studiesCount:762}, {\"value\":\"Overall Survival (OS)\", studiesCount:689}, {\"value\":\"Adverse events\", studiesCount:672}, {\"value\":\"Progression-free survival\", studiesCount:662}, {\"value\":\"Adverse Events\", studiesCount:611}, {\"value\":\"Safety\", studiesCount:605}, {\"value\":\"Incidence of adverse events\", studiesCount:574}, {\"value\":\"Objective response rate (ORR)\", studiesCount:548}, {\"value\":\"Progression Free Survival (PFS)\", studiesCount:523}, {\"value\":\"PFS\", studiesCount:509}, {\"value\":\"Progression-free survival (PFS)\", studiesCount:497}, {\"value\":\"ORR\", studiesCount:477}, {\"value\":\"Overall survival (OS)\", studiesCount:445}, {\"value\":\"Survival\", studiesCount:441}, {\"value\":\"Progression Free Survival\", studiesCount:440}, {\"value\":\"Blood pressure\", studiesCount:434}, {\"value\":\"Progression free survival\", studiesCount:426}, {\"value\":\"Pain intensity\", studiesCount:425}, {\"value\":\"HbA1c\", studiesCount:422}, {\"value\":\"Maximum Tolerated Dose (MTD)\", studiesCount:417}, {\"value\":\"Overall Response Rate (ORR)\", studiesCount:411}, {\"value\":\"Objective Response Rate\", studiesCount:409}, {\"value\":\"Objective response rate\", studiesCount:391}, {\"value\":\"overall survival\", studiesCount:387}, {\"value\":\"Response rate\", studiesCount:370}, {\"value\":\"Acceptability\", studiesCount:362}, {\"value\":\"Maximum tolerated dose (MTD)\", studiesCount:352}, {\"value\":\"Progression-Free Survival (PFS)\", studiesCount:349}, {\"value\":\"Weight\", studiesCount:347}, {\"value\":\"Number of Participants With Adverse Events\", studiesCount:337}, {\"value\":\"Anxiety\", studiesCount:336}, {\"value\":\"Heart rate\", studiesCount:335}, {\"value\":\"Overall Response Rate\", studiesCount:331}, {\"value\":\"Pain\", studiesCount:324}, {\"value\":\"Depression\", ...]\n",
      "Index: []\n",
      "\n",
      "[0 rows x 524 columns]\n"
     ]
    },
    {
     "data": {
      "text/html": [
       "<div>\n",
       "<style scoped>\n",
       "    .dataframe tbody tr th:only-of-type {\n",
       "        vertical-align: middle;\n",
       "    }\n",
       "\n",
       "    .dataframe tbody tr th {\n",
       "        vertical-align: top;\n",
       "    }\n",
       "\n",
       "    .dataframe thead th {\n",
       "        text-align: right;\n",
       "    }\n",
       "</style>\n",
       "<table border=\"1\" class=\"dataframe\">\n",
       "  <thead>\n",
       "    <tr style=\"text-align: right;\">\n",
       "      <th></th>\n",
       "    </tr>\n",
       "  </thead>\n",
       "  <tbody>\n",
       "    <tr>\n",
       "      <th>[{\"type\":\"STRING\"</th>\n",
       "    </tr>\n",
       "    <tr>\n",
       "      <th>piece:\"PrimaryOutcomeMeasure\"</th>\n",
       "    </tr>\n",
       "    <tr>\n",
       "      <th>field:\"protocolSection.outcomesModule.primaryOutcomes.measure\"</th>\n",
       "    </tr>\n",
       "    <tr>\n",
       "      <th>missingStudiesCount:17576</th>\n",
       "    </tr>\n",
       "    <tr>\n",
       "      <th>longest:{\"value\":\"Percent Change From Baseline in Chemistry Parameters in Combination Treatment Period:ALT</th>\n",
       "    </tr>\n",
       "    <tr>\n",
       "      <th>Albumin</th>\n",
       "    </tr>\n",
       "    <tr>\n",
       "      <th>ALP</th>\n",
       "    </tr>\n",
       "    <tr>\n",
       "      <th>AST</th>\n",
       "    </tr>\n",
       "    <tr>\n",
       "      <th>Calcium</th>\n",
       "    </tr>\n",
       "    <tr>\n",
       "      <th>CO2</th>\n",
       "    </tr>\n",
       "    <tr>\n",
       "      <th>Chloride</th>\n",
       "    </tr>\n",
       "    <tr>\n",
       "      <th>Creatinine</th>\n",
       "    </tr>\n",
       "    <tr>\n",
       "      <th>Direct Bilirubin</th>\n",
       "    </tr>\n",
       "    <tr>\n",
       "      <th>Glucose</th>\n",
       "    </tr>\n",
       "    <tr>\n",
       "      <th>Lactate Dehydrogenase</th>\n",
       "    </tr>\n",
       "    <tr>\n",
       "      <th>Magnesium</th>\n",
       "    </tr>\n",
       "    <tr>\n",
       "      <th>Potassium</th>\n",
       "    </tr>\n",
       "    <tr>\n",
       "      <th>Sodium</th>\n",
       "    </tr>\n",
       "    <tr>\n",
       "      <th>Total Bilirubin</th>\n",
       "    </tr>\n",
       "    <tr>\n",
       "      <th>Total Protein\"</th>\n",
       "    </tr>\n",
       "  </tbody>\n",
       "</table>\n",
       "</div>"
      ],
      "text/plain": [
       "Empty DataFrame\n",
       "Columns: []\n",
       "Index: [[{\"type\":\"STRING\", piece:\"PrimaryOutcomeMeasure\", field:\"protocolSection.outcomesModule.primaryOutcomes.measure\", missingStudiesCount:17576, longest:{\"value\":\"Percent Change From Baseline in Chemistry Parameters in Combination Treatment Period:ALT,  Albumin,  ALP,  AST,  Calcium,  CO2,  Chloride,  Creatinine,  Direct Bilirubin,  Glucose,  Lactate Dehydrogenase,  Magnesium,  Potassium,  Sodium,  Total Bilirubin,  Total Protein\"]"
      ]
     },
     "execution_count": 15,
     "metadata": {},
     "output_type": "execute_result"
    }
   ],
   "source": [
    "df = pd.read_csv(url)\n",
    "\n",
    "print(df.head())\n",
    "df.transpose().head(20)"
   ]
  },
  {
   "cell_type": "code",
   "execution_count": 11,
   "id": "36c8b7b3",
   "metadata": {},
   "outputs": [
    {
     "data": {
      "text/html": [
       "<div>\n",
       "<style scoped>\n",
       "    .dataframe tbody tr th:only-of-type {\n",
       "        vertical-align: middle;\n",
       "    }\n",
       "\n",
       "    .dataframe tbody tr th {\n",
       "        vertical-align: top;\n",
       "    }\n",
       "\n",
       "    .dataframe thead th {\n",
       "        text-align: right;\n",
       "    }\n",
       "</style>\n",
       "<table border=\"1\" class=\"dataframe\">\n",
       "  <thead>\n",
       "    <tr style=\"text-align: right;\">\n",
       "      <th></th>\n",
       "      <th>type</th>\n",
       "      <th>piece</th>\n",
       "      <th>field</th>\n",
       "      <th>missingStudiesCount</th>\n",
       "      <th>uniqueValuesCount</th>\n",
       "      <th>topValues</th>\n",
       "      <th>longest.value</th>\n",
       "      <th>longest.length</th>\n",
       "      <th>longest.nctId</th>\n",
       "    </tr>\n",
       "  </thead>\n",
       "  <tbody>\n",
       "    <tr>\n",
       "      <th>0</th>\n",
       "      <td>STRING</td>\n",
       "      <td>PrimaryOutcomeMeasure</td>\n",
       "      <td>protocolSection.outcomesModule.primaryOutcomes...</td>\n",
       "      <td>17576</td>\n",
       "      <td>816041</td>\n",
       "      <td>[{'value': 'Overall survival', 'studiesCount':...</td>\n",
       "      <td>Percent Change From Baseline in Chemistry Para...</td>\n",
       "      <td>255</td>\n",
       "      <td>NCT02215096</td>\n",
       "    </tr>\n",
       "  </tbody>\n",
       "</table>\n",
       "</div>"
      ],
      "text/plain": [
       "     type                  piece  \\\n",
       "0  STRING  PrimaryOutcomeMeasure   \n",
       "\n",
       "                                               field  missingStudiesCount  \\\n",
       "0  protocolSection.outcomesModule.primaryOutcomes...                17576   \n",
       "\n",
       "   uniqueValuesCount                                          topValues  \\\n",
       "0             816041  [{'value': 'Overall survival', 'studiesCount':...   \n",
       "\n",
       "                                       longest.value  longest.length  \\\n",
       "0  Percent Change From Baseline in Chemistry Para...             255   \n",
       "\n",
       "  longest.nctId  \n",
       "0   NCT02215096  "
      ]
     },
     "execution_count": 11,
     "metadata": {},
     "output_type": "execute_result"
    }
   ],
   "source": [
    "import requests\n",
    "import pandas as pd\n",
    "\n",
    "url = \"https://www.clinicaltrials.gov/api/v2/stats/field/values?fields=PrimaryOutcomeMeasure\"\n",
    "resp = requests.get(url)\n",
    "resp.raise_for_status()  # will error if bad status\n",
    "\n",
    "data = resp.json()  # if the API outputs JSON\n",
    "# Or if CSV: data = resp.text and use pd.read_csv on StringIO\n",
    "\n",
    "# Convert to DataFrame (if JSON is a list of dicts)\n",
    "df = pd.json_normalize(data)\n",
    "df.to_csv(\"primary_outcome.csv\", index=False)\n",
    "df\n"
   ]
  },
  {
   "cell_type": "code",
   "execution_count": 16,
   "id": "4a1cbffc",
   "metadata": {},
   "outputs": [
    {
     "name": "stdout",
     "output_type": "stream",
     "text": [
      "                                                              protocolSection  \\\n",
      "identificationModule        {'nctId': 'NCT01985360', 'orgStudyIdInfo': {'i...   \n",
      "statusModule                {'statusVerifiedDate': '2021-09', 'overallStat...   \n",
      "sponsorCollaboratorsModule  {'responsibleParty': {'type': 'SPONSOR'}, 'lea...   \n",
      "oversightModule             {'oversightHasDmc': True, 'isFdaRegulatedDrug'...   \n",
      "descriptionModule           {'briefSummary': 'The purpose of the ISCHEMIA-...   \n",
      "\n",
      "                           resultsSection documentSection derivedSection  \\\n",
      "identificationModule                  NaN             NaN            NaN   \n",
      "statusModule                          NaN             NaN            NaN   \n",
      "sponsorCollaboratorsModule            NaN             NaN            NaN   \n",
      "oversightModule                       NaN             NaN            NaN   \n",
      "descriptionModule                     NaN             NaN            NaN   \n",
      "\n",
      "                            hasResults  \n",
      "identificationModule              True  \n",
      "statusModule                      True  \n",
      "sponsorCollaboratorsModule        True  \n",
      "oversightModule                   True  \n",
      "descriptionModule                 True  \n"
     ]
    }
   ],
   "source": [
    "import pandas as pd\n",
    "\n",
    "url = \"https://clinicaltrials.gov/api/v2/studies/NCT01985360\"\n",
    "df = pd.read_json(url)\n",
    "\n",
    "print(df.head())\n"
   ]
  },
  {
   "cell_type": "code",
   "execution_count": 24,
   "id": "ecc6bc4b",
   "metadata": {},
   "outputs": [
    {
     "data": {
      "text/plain": [
       "<Response [404]>"
      ]
     },
     "execution_count": 24,
     "metadata": {},
     "output_type": "execute_result"
    }
   ],
   "source": [
    "import requests\n",
    "import pandas as pd\n",
    "\n",
    "url = \"https://clinicaltrials.gov/api/v2/studies/NCT01985360/results\"\n",
    "r = requests.get(url)\n",
    "r\n",
    "\n"
   ]
  },
  {
   "cell_type": "code",
   "execution_count": 26,
   "id": "e1b4c6da",
   "metadata": {},
   "outputs": [
    {
     "data": {
      "text/html": [
       "<div>\n",
       "<style scoped>\n",
       "    .dataframe tbody tr th:only-of-type {\n",
       "        vertical-align: middle;\n",
       "    }\n",
       "\n",
       "    .dataframe tbody tr th {\n",
       "        vertical-align: top;\n",
       "    }\n",
       "\n",
       "    .dataframe thead th {\n",
       "        text-align: right;\n",
       "    }\n",
       "</style>\n",
       "<table border=\"1\" class=\"dataframe\">\n",
       "  <thead>\n",
       "    <tr style=\"text-align: right;\">\n",
       "      <th></th>\n",
       "      <th>type</th>\n",
       "      <th>piece</th>\n",
       "      <th>field</th>\n",
       "      <th>missingStudiesCount</th>\n",
       "      <th>uniqueValuesCount</th>\n",
       "      <th>topValues</th>\n",
       "      <th>longest.value</th>\n",
       "      <th>longest.length</th>\n",
       "      <th>longest.nctId</th>\n",
       "    </tr>\n",
       "  </thead>\n",
       "  <tbody>\n",
       "    <tr>\n",
       "      <th>0</th>\n",
       "      <td>STRING</td>\n",
       "      <td>PrimaryOutcomeMeasure</td>\n",
       "      <td>protocolSection.outcomesModule.primaryOutcomes...</td>\n",
       "      <td>17576</td>\n",
       "      <td>816041</td>\n",
       "      <td>[{'value': 'Overall survival', 'studiesCount':...</td>\n",
       "      <td>Percent Change From Baseline in Chemistry Para...</td>\n",
       "      <td>255</td>\n",
       "      <td>NCT02215096</td>\n",
       "    </tr>\n",
       "  </tbody>\n",
       "</table>\n",
       "</div>"
      ],
      "text/plain": [
       "     type                  piece  \\\n",
       "0  STRING  PrimaryOutcomeMeasure   \n",
       "\n",
       "                                               field  missingStudiesCount  \\\n",
       "0  protocolSection.outcomesModule.primaryOutcomes...                17576   \n",
       "\n",
       "   uniqueValuesCount                                          topValues  \\\n",
       "0             816041  [{'value': 'Overall survival', 'studiesCount':...   \n",
       "\n",
       "                                       longest.value  longest.length  \\\n",
       "0  Percent Change From Baseline in Chemistry Para...             255   \n",
       "\n",
       "  longest.nctId  \n",
       "0   NCT02215096  "
      ]
     },
     "execution_count": 26,
     "metadata": {},
     "output_type": "execute_result"
    }
   ],
   "source": [
    "primary = pd.read_csv(\"primary_outcome.csv\")\n",
    "primary.head()"
   ]
  },
  {
   "cell_type": "code",
   "execution_count": 51,
   "id": "8c505f23",
   "metadata": {},
   "outputs": [
    {
     "data": {
      "text/plain": [
       "array([\"[{'value': 'Overall survival', 'studiesCount': 1244}, {'value': 'Mortality', 'studiesCount': 946}, {'value': 'Overall Survival', 'studiesCount': 838}, {'value': 'Cmax', 'studiesCount': 834}, {'value': 'Objective Response Rate (ORR)', 'studiesCount': 762}, {'value': 'Overall Survival (OS)', 'studiesCount': 689}, {'value': 'Adverse events', 'studiesCount': 672}, {'value': 'Progression-free survival', 'studiesCount': 662}, {'value': 'Adverse Events', 'studiesCount': 611}, {'value': 'Safety', 'studiesCount': 605}, {'value': 'Incidence of adverse events', 'studiesCount': 574}, {'value': 'Objective response rate (ORR)', 'studiesCount': 548}, {'value': 'Progression Free Survival (PFS)', 'studiesCount': 523}, {'value': 'PFS', 'studiesCount': 509}, {'value': 'Progression-free survival (PFS)', 'studiesCount': 497}, {'value': 'ORR', 'studiesCount': 477}, {'value': 'Overall survival (OS)', 'studiesCount': 445}, {'value': 'Survival', 'studiesCount': 441}, {'value': 'Progression Free Survival', 'studiesCount': 440}, {'value': 'Blood pressure', 'studiesCount': 434}, {'value': 'Progression free survival', 'studiesCount': 426}, {'value': 'Pain intensity', 'studiesCount': 425}, {'value': 'HbA1c', 'studiesCount': 422}, {'value': 'Maximum Tolerated Dose (MTD)', 'studiesCount': 417}, {'value': 'Overall Response Rate (ORR)', 'studiesCount': 411}, {'value': 'Objective Response Rate', 'studiesCount': 409}, {'value': 'Objective response rate', 'studiesCount': 391}, {'value': 'overall survival', 'studiesCount': 387}, {'value': 'Response rate', 'studiesCount': 370}, {'value': 'Acceptability', 'studiesCount': 362}, {'value': 'Maximum tolerated dose (MTD)', 'studiesCount': 352}, {'value': 'Progression-Free Survival (PFS)', 'studiesCount': 349}, {'value': 'Weight', 'studiesCount': 347}, {'value': 'Number of Participants With Adverse Events', 'studiesCount': 337}, {'value': 'Anxiety', 'studiesCount': 336}, {'value': 'Heart rate', 'studiesCount': 335}, {'value': 'Overall Response Rate', 'studiesCount': 331}, {'value': 'Pain', 'studiesCount': 324}, {'value': 'Depression', 'studiesCount': 308}, {'value': 'All-cause mortality', 'studiesCount': 297}, {'value': 'Progression-free Survival (PFS)', 'studiesCount': 295}, {'value': 'Quality of life', 'studiesCount': 295}, {'value': 'Overall response rate', 'studiesCount': 292}, {'value': 'Recruitment rate', 'studiesCount': 292}, {'value': 'Visual Analog Scale', 'studiesCount': 291}, {'value': 'Retention', 'studiesCount': 288}, {'value': 'Death', 'studiesCount': 287}, {'value': 'Progression free survival (PFS)', 'studiesCount': 269}, {'value': 'Overall response rate (ORR)', 'studiesCount': 261}, {'value': 'Visual Analogue Scale', 'studiesCount': 254}, {'value': 'Blood Pressure', 'studiesCount': 252}, {'value': 'Adherence', 'studiesCount': 249}, {'value': 'Bioequivalence', 'studiesCount': 246}, {'value': 'Visual Analog Scale (VAS)', 'studiesCount': 244}, {'value': 'Number of participants with adverse events', 'studiesCount': 241}, {'value': 'Body weight', 'studiesCount': 240}, {'value': 'Progression-free Survival', 'studiesCount': 239}, {'value': 'Incidence of Treatment-Emergent Adverse Events', 'studiesCount': 236}, {'value': 'Disease-free survival', 'studiesCount': 232}, {'value': 'Feasibility', 'studiesCount': 232}, {'value': 'Maximum tolerated dose', 'studiesCount': 228}, {'value': 'Maximum Observed Plasma Concentration (Cmax)', 'studiesCount': 226}, {'value': 'Safety and tolerability', 'studiesCount': 226}, {'value': 'Tmax', 'studiesCount': 224}, {'value': 'Response Rate', 'studiesCount': 221}, {'value': 'AUC', 'studiesCount': 217}, {'value': 'Efficacy', 'studiesCount': 216}, {'value': 'Balance', 'studiesCount': 213}, {'value': 'Pain Intensity', 'studiesCount': 210}, {'value': 'mortality', 'studiesCount': 210}, {'value': 'Berg Balance Scale', 'studiesCount': 196}, {'value': 'Heart Rate', 'studiesCount': 194}, {'value': 'Sensitivity', 'studiesCount': 194}, {'value': 'Dose-limiting toxicity (DLT)', 'studiesCount': 193}, {'value': 'Maximum Tolerated Dose', 'studiesCount': 192}, {'value': 'Safety and Tolerability', 'studiesCount': 192}, {'value': 'BMI', 'studiesCount': 187}, {'value': 'Visual Analogue Scale (VAS)', 'studiesCount': 186}, {'value': 'Change in HbA1c', 'studiesCount': 185}, {'value': 'AUC0-t', 'studiesCount': 180}, {'value': 'Toxicity', 'studiesCount': 179}, {'value': 'Disease free survival', 'studiesCount': 178}, {'value': 'Fatigue', 'studiesCount': 178}, {'value': 'Incidence of Treatment-Emergent Adverse Events [Safety and Tolerability]', 'studiesCount': 177}, {'value': 'Postoperative pain', 'studiesCount': 177}, {'value': 'Weight loss', 'studiesCount': 177}, {'value': 'Length of hospital stay', 'studiesCount': 175}, {'value': 'Physical activity', 'studiesCount': 175}, {'value': 'Pain score', 'studiesCount': 173}, {'value': 'Quality of Life', 'studiesCount': 171}, {'value': 'progression-free survival', 'studiesCount': 171}, {'value': 'Body Mass Index', 'studiesCount': 170}, {'value': 'Number of Participants With Adverse Events (AEs)', 'studiesCount': 169}, {'value': 'Patient satisfaction', 'studiesCount': 166}, {'value': 'OS', 'studiesCount': 163}, {'value': 'Number of patients with adverse events', 'studiesCount': 162}, {'value': 'Recruitment', 'studiesCount': 160}, {'value': 'All cause mortality', 'studiesCount': 157}, {'value': 'Number of Adverse Events', 'studiesCount': 156}, {'value': 'Incidence of Adverse Events', 'studiesCount': 155}, {'value': 'Body composition', 'studiesCount': 153}, {'value': 'Incidence of adverse events (AEs)', 'studiesCount': 153}, {'value': 'Visual acuity', 'studiesCount': 153}, {'value': 'Complications', 'studiesCount': 152}, {'value': 'Muscle strength', 'studiesCount': 151}, {'value': 'MTD', 'studiesCount': 150}, {'value': 'Number of participants with treatment-related adverse events as assessed by CTCAE v4.0', 'studiesCount': 149}, {'value': 'Retention rate', 'studiesCount': 147}, {'value': 'Height', 'studiesCount': 146}, {'value': 'Event-free survival', 'studiesCount': 144}, {'value': 'progression free survival', 'studiesCount': 144}, {'value': 'Range of motion', 'studiesCount': 141}, {'value': 'Heart rate variability', 'studiesCount': 140}, {'value': 'Pittsburgh Sleep Quality Index', 'studiesCount': 139}, {'value': 'Clinical pregnancy rate', 'studiesCount': 138}, {'value': 'Numeric Pain Rating Scale', 'studiesCount': 138}, {'value': 'DLT', 'studiesCount': 137}, {'value': 'Insulin sensitivity', 'studiesCount': 136}, {'value': 'Peak Plasma Concentration (Cmax)', 'studiesCount': 135}, {'value': 'Specificity', 'studiesCount': 135}, {'value': 'Maximum observed plasma concentration (Cmax)', 'studiesCount': 134}, {'value': 'Number of adverse events', 'studiesCount': 132}, {'value': 'Patient Satisfaction', 'studiesCount': 132}, {'value': 'Body mass index', 'studiesCount': 131}, {'value': 'Visual Acuity', 'studiesCount': 130}, {'value': 'Disability', 'studiesCount': 129}, {'value': 'Recruitment Rate', 'studiesCount': 129}, {'value': 'Number of Participants with Adverse Events (AEs)', 'studiesCount': 127}, {'value': 'Body Mass Index (BMI)', 'studiesCount': 125}, {'value': 'Progression-Free Survival', 'studiesCount': 125}, {'value': 'Sleep quality', 'studiesCount': 124}, {'value': 'Cognitive function', 'studiesCount': 122}, {'value': 'Postoperative complications', 'studiesCount': 122}, {'value': 'Dose limiting toxicity (DLT)', 'studiesCount': 121}, {'value': 'Neck Disability Index', 'studiesCount': 120}, {'value': 'VAS', 'studiesCount': 120}, {'value': 'Maximum Plasma Concentration (Cmax)', 'studiesCount': 119}, {'value': 'Physical Activity', 'studiesCount': 118}, {'value': 'Mortality rate', 'studiesCount': 117}, {'value': 'Adverse Events (AEs)', 'studiesCount': 116}, {'value': 'Pittsburgh Sleep Quality Index (PSQI)', 'studiesCount': 116}, {'value': 'Range of Motion', 'studiesCount': 116}, {'value': 'Waist circumference', 'studiesCount': 116}, {'value': 'Number of participants with adverse events (AEs)', 'studiesCount': 115}, {'value': 'Systolic blood pressure', 'studiesCount': 114}, {'value': 'Perceived Stress Scale', 'studiesCount': 113}, {'value': 'Body Weight', 'studiesCount': 112}, {'value': 'response rate', 'studiesCount': 112}, {'value': 'Change in body weight', 'studiesCount': 111}, {'value': 'Pharmacokinetics', 'studiesCount': 111}, {'value': 'Recommended Phase 2 Dose (RP2D)', 'studiesCount': 111}, {'value': 'Depressive symptoms', 'studiesCount': 110}, {'value': 'Number of Participants with Adverse Events', 'studiesCount': 110}, {'value': 'Numeric Pain Rating Scale (NPRS)', 'studiesCount': 110}, {'value': 'AUC0-∞', 'studiesCount': 109}, {'value': 'Adverse events (AEs)', 'studiesCount': 109}, {'value': 'Number of Participants with Adverse Events as a Measure of Safety and Tolerability', 'studiesCount': 109}, {'value': 'Oswestry Disability Index', 'studiesCount': 109}, {'value': 'blood pressure', 'studiesCount': 109}, {'value': 'Systolic Blood Pressure', 'studiesCount': 108}, {'value': 'Accuracy', 'studiesCount': 107}, {'value': 'Diagnostic accuracy', 'studiesCount': 107}, {'value': 'Dose Limiting Toxicity (DLT)', 'studiesCount': 107}, {'value': 'Hemoglobin A1c', 'studiesCount': 107}, {'value': 'AUClast', 'studiesCount': 106}, {'value': 'Incidence of treatment-emergent adverse events (TEAEs)', 'studiesCount': 106}, {'value': 'Number of Participants With Adverse Events (AEs) and Serious Adverse Events (SAEs)', 'studiesCount': 106}, {'value': 'Sleep Quality', 'studiesCount': 106}, {'value': 'RP2D', 'studiesCount': 105}, {'value': 'Operative time', 'studiesCount': 104}, {'value': 'Opioid consumption', 'studiesCount': 102}, {'value': 'Vital signs', 'studiesCount': 101}, {'value': 'Compliance', 'studiesCount': 100}, {'value': 'Response', 'studiesCount': 100}, {'value': 'Time to progression', 'studiesCount': 100}, {'value': 'postoperative pain', 'studiesCount': 100}, {'value': 'Length of stay', 'studiesCount': 99}, {'value': 'Number of subjects with adverse events', 'studiesCount': 99}, {'value': 'Live birth rate', 'studiesCount': 98}, {'value': 'Number of Participants With Treatment-Emergent Adverse Events (TEAEs)', 'studiesCount': 97}, {'value': 'Oswestry Disability Index (ODI)', 'studiesCount': 97}, {'value': 'Recurrence', 'studiesCount': 97}, {'value': 'MACE', 'studiesCount': 96}, {'value': 'objective response rate', 'studiesCount': 96}, {'value': 'Maximum plasma concentration (Cmax)', 'studiesCount': 95}, {'value': 'Pain Score', 'studiesCount': 95}, {'value': 'Primary Safety Endpoint', 'studiesCount': 94}, {'value': 'Stress', 'studiesCount': 94}, {'value': 'Hemoglobin', 'studiesCount': 93}, {'value': 'Incidence of Adverse Events (AEs)', 'studiesCount': 93}, {'value': 'Incidence of treatment-emergent adverse events', 'studiesCount': 93}, {'value': 'overall response rate', 'studiesCount': 93}, {'value': 'Morbidity', 'studiesCount': 92}, {'value': 'pain intensity', 'studiesCount': 92}, {'value': 'Change in blood pressure', 'studiesCount': 91}, {'value': 'Disease-free survival (DFS)', 'studiesCount': 91}, {'value': 'In-hospital mortality', 'studiesCount': 91}, {'value': 'Muscle Strength', 'studiesCount': 91}, {'value': 'Visual analogue scale', 'studiesCount': 91}, {'value': 'Glucose', 'studiesCount': 90}, {'value': 'Health-related quality of life', 'studiesCount': 90}, {'value': 'Event-free survival (EFS)', 'studiesCount': 88}, {'value': 'Oxygen saturation', 'studiesCount': 88}, {'value': 'Pregnancy rate', 'studiesCount': 88}, {'value': 'Recurrence rate', 'studiesCount': 88}, {'value': 'Technical success', 'studiesCount': 88}, {'value': 'Weight Loss', 'studiesCount': 88}, {'value': 'Body Composition', 'studiesCount': 87}, {'value': 'Postoperative Pain', 'studiesCount': 87}, {'value': 'all cause mortality', 'studiesCount': 87}, {'value': 'death', 'studiesCount': 87}, {'value': 'weight loss', 'studiesCount': 87}, {'value': 'Serious Adverse Events', 'studiesCount': 86}, {'value': 'Age', 'studiesCount': 85}, {'value': 'Insomnia Severity Index (ISI)', 'studiesCount': 85}, {'value': 'Triglycerides', 'studiesCount': 84}, {'value': 'heart rate', 'studiesCount': 84}, {'value': 'Area under the plasma concentration versus time curve (AUC)', 'studiesCount': 83}, {'value': 'Blood loss', 'studiesCount': 83}, {'value': 'Bone mineral density', 'studiesCount': 83}, {'value': 'Dose-limiting toxicity', 'studiesCount': 83}, {'value': 'Heart Rate Variability', 'studiesCount': 83}, {'value': 'Hospital Anxiety and Depression Scale (HADS)', 'studiesCount': 83}, {'value': 'Incidence and severity of adverse events', 'studiesCount': 83}, {'value': 'adverse events', 'studiesCount': 83}, {'value': 'Grip strength', 'studiesCount': 82}, {'value': 'Pain level', 'studiesCount': 82}, {'value': 'pain', 'studiesCount': 81}, {'value': 'Change in Weight', 'studiesCount': 80}, {'value': 'Dose Limiting Toxicity', 'studiesCount': 80}, {'value': 'Retention Rate', 'studiesCount': 80}, {'value': 'Safety and adverse events (AEs)', 'studiesCount': 80}, {'value': 'AUC0-inf', 'studiesCount': 79}, {'value': 'Complete response rate', 'studiesCount': 79}, {'value': 'Disease Control Rate (DCR)', 'studiesCount': 79}, {'value': 'Insulin Sensitivity', 'studiesCount': 79}, {'value': 'Number of Participants With Treatment-emergent Adverse Events (TEAEs)', 'studiesCount': 79}, {'value': 'Patient Health Questionnaire-9 (PHQ-9)', 'studiesCount': 79}, {'value': 'clinical pregnancy rate', 'studiesCount': 79}, {'value': 'Effectiveness', 'studiesCount': 78}, {'value': 'Exercise capacity', 'studiesCount': 78}, {'value': 'Goniometer', 'studiesCount': 78}, {'value': 'Incidence of Adverse Events, Graded According to National Cancer Institute Common Terminology Criteria for Adverse Events (NCI CTCAE) Version (v) 5.0', 'studiesCount': 78}, {'value': 'Number of Participants With Dose Limiting Toxicities (DLTs)', 'studiesCount': 78}, {'value': 'Number of Participants With Serious Adverse Events (SAEs)', 'studiesCount': 78}, {'value': 'Respiratory rate', 'studiesCount': 78}, {'value': 'Survival rate', 'studiesCount': 78}, {'value': '28-day mortality', 'studiesCount': 77}, {'value': 'Functional capacity', 'studiesCount': 77}, {'value': 'Primary Outcome', 'studiesCount': 77}]\"],\n",
       "      dtype=object)"
      ]
     },
     "execution_count": 51,
     "metadata": {},
     "output_type": "execute_result"
    }
   ],
   "source": [
    "study_vals= primary[\"topValues\"].values\n",
    "study_vals"
   ]
  },
  {
   "cell_type": "code",
   "execution_count": 52,
   "id": "b8fac337",
   "metadata": {},
   "outputs": [],
   "source": [
    "import ast\n",
    "arr = primary[\"topValues\"].values"
   ]
  },
  {
   "cell_type": "code",
   "execution_count": 56,
   "id": "027e2588",
   "metadata": {},
   "outputs": [
    {
     "data": {
      "text/html": [
       "<div>\n",
       "<style scoped>\n",
       "    .dataframe tbody tr th:only-of-type {\n",
       "        vertical-align: middle;\n",
       "    }\n",
       "\n",
       "    .dataframe tbody tr th {\n",
       "        vertical-align: top;\n",
       "    }\n",
       "\n",
       "    .dataframe thead th {\n",
       "        text-align: right;\n",
       "    }\n",
       "</style>\n",
       "<table border=\"1\" class=\"dataframe\">\n",
       "  <thead>\n",
       "    <tr style=\"text-align: right;\">\n",
       "      <th></th>\n",
       "      <th>0</th>\n",
       "    </tr>\n",
       "  </thead>\n",
       "  <tbody>\n",
       "    <tr>\n",
       "      <th>0</th>\n",
       "      <td>[{'value': 'Overall survival', 'studiesCount':...</td>\n",
       "    </tr>\n",
       "  </tbody>\n",
       "</table>\n",
       "</div>"
      ],
      "text/plain": [
       "                                                   0\n",
       "0  [{'value': 'Overall survival', 'studiesCount':..."
      ]
     },
     "execution_count": 56,
     "metadata": {},
     "output_type": "execute_result"
    }
   ],
   "source": [
    "df = pd.DataFrame(arr)\n",
    "\n",
    "df"
   ]
  },
  {
   "cell_type": "markdown",
   "id": "38f085a6",
   "metadata": {},
   "source": [
    "[{'value': 'Overall survival', 'studiesCount': 1244}, {'value': 'Mortality', 'studiesCount': 946}, {'value': 'Overall Survival', 'studiesCount': 838}, {'value': 'Cmax', 'studiesCount': 834}, {'value': 'Objective Response Rate (ORR)', 'studiesCount': 762}, {'value': 'Overall Survival (OS)', 'studiesCount': 689}, {'value': 'Adverse events', 'studiesCount': 672}, {'value': 'Progression-free survival', 'studiesCount': 662}, {'value': 'Adverse Events', 'studiesCount': 611}, {'value': 'Safety', 'studiesCount': 605}, {'value': 'Incidence of adverse events', 'studiesCount': 574}, {'value': 'Objective response rate (ORR)', 'studiesCount': 548}, {'value': 'Progression Free Survival (PFS)', 'studiesCount': 523}, {'value': 'PFS', 'studiesCount': 509}, {'value': 'Progression-free survival (PFS)', 'studiesCount': 497}, {'value': 'ORR', 'studiesCount': 477}, {'value': 'Overall survival (OS)', 'studiesCount': 445}, {'value': 'Survival', 'studiesCount': 441}, {'value': 'Progression Free Survival', 'studiesCount': 440}, {'value': 'Blood pressure', 'studiesCount': 434}, {'value': 'Progression free survival', 'studiesCount': 426}, {'value': 'Pain intensity', 'studiesCount': 425}, {'value': 'HbA1c', 'studiesCount': 422}, {'value': 'Maximum Tolerated Dose (MTD)', 'studiesCount': 417}, {'value': 'Overall Response Rate (ORR)', 'studiesCount': 411}, {'value': 'Objective Response Rate', 'studiesCount': 409}, {'value': 'Objective response rate', 'studiesCount': 391}, {'value': 'overall survival', 'studiesCount': 387}, {'value': 'Response rate', 'studiesCount': 370}, {'value': 'Acceptability', 'studiesCount': 362}, {'value': 'Maximum tolerated dose (MTD)', 'studiesCount': 352}, {'value': 'Progression-Free Survival (PFS)', 'studiesCount': 349}, {'value': 'Weight', 'studiesCount': 347}, {'value': 'Number of Participants With Adverse Events', 'studiesCount': 337}, {'value': 'Anxiety', 'studiesCount': 336}, {'value': 'Heart rate', 'studiesCount': 335}, {'value': 'Overall Response Rate', 'studiesCount': 331}, {'value': 'Pain', 'studiesCount': 324}, {'value': 'Depression', 'studiesCount': 308}, {'value': 'All-cause mortality', 'studiesCount': 297}, {'value': 'Progression-free Survival (PFS)', 'studiesCount': 295}, {'value': 'Quality of life', 'studiesCount': 295}, {'value': 'Overall response rate', 'studiesCount': 292}, {'value': 'Recruitment rate', 'studiesCount': 292}, {'value': 'Visual Analog Scale', 'studiesCount': 291}, {'value': 'Retention', 'studiesCount': 288}, {'value': 'Death', 'studiesCount': 287}, {'value': 'Progression free survival (PFS)', 'studiesCount': 269}, {'value': 'Overall response rate (ORR)', 'studiesCount': 261}, {'value': 'Visual Analogue Scale', 'studiesCount': 254}, {'value': 'Blood Pressure', 'studiesCount': 252}, {'value': 'Adherence', 'studiesCount': 249}, {'value': 'Bioequivalence', 'studiesCount': 246}, {'value': 'Visual Analog Scale (VAS)', 'studiesCount': 244}, {'value': 'Number of participants with adverse events', 'studiesCount': 241}, {'value': 'Body weight', 'studiesCount': 240}, {'value': 'Progression-free Survival', 'studiesCount': 239}, {'value': 'Incidence of Treatment-Emergent Adverse Events', 'studiesCount': 236}, {'value': 'Disease-free survival', 'studiesCount': 232}, {'value': 'Feasibility', 'studiesCount': 232}, {'value': 'Maximum tolerated dose', 'studiesCount': 228}, {'value': 'Maximum Observed Plasma Concentration (Cmax)', 'studiesCount': 226}, {'value': 'Safety and tolerability', 'studiesCount': 226}, {'value': 'Tmax', 'studiesCount': 224}, {'value': 'Response Rate', 'studiesCount': 221}, {'value': 'AUC', 'studiesCount': 217}, {'value': 'Efficacy', 'studiesCount': 216}, {'value': 'Balance', 'studiesCount': 213}, {'value': 'Pain Intensity', 'studiesCount': 210}, {'value': 'mortality', 'studiesCount': 210}, {'value': 'Berg Balance Scale', 'studiesCount': 196}, {'value': 'Heart Rate', 'studiesCount': 194}, {'value': 'Sensitivity', 'studiesCount': 194}, {'value': 'Dose-limiting toxicity (DLT)', 'studiesCount': 193}, {'value': 'Maximum Tolerated Dose', 'studiesCount': 192}, {'value': 'Safety and Tolerability', 'studiesCount': 192}, {'value': 'BMI', 'studiesCount': 187}, {'value': 'Visual Analogue Scale (VAS)', 'studiesCount': 186}, {'value': 'Change in HbA1c', 'studiesCount': 185}, {'value': 'AUC0-t', 'studiesCount': 180}, {'value': 'Toxicity', 'studiesCount': 179}, {'value': 'Disease free survival', 'studiesCount': 178}, {'value': 'Fatigue', 'studiesCount': 178}, {'value': 'Incidence of Treatment-Emergent Adverse Events [Safety and Tolerability]', 'studiesCount': 177}, {'value': 'Postoperative pain', 'studiesCount': 177}, {'value': 'Weight loss', 'studiesCount': 177}, {'value': 'Length of hospital stay', 'studiesCount': 175}, {'value': 'Physical activity', 'studiesCount': 175}, {'value': 'Pain score', 'studiesCount': 173}, {'value': 'Quality of Life', 'studiesCount': 171}, {'value': 'progression-free survival', 'studiesCount': 171}, {'value': 'Body Mass Index', 'studiesCount': 170}, {'value': 'Number of Participants With Adverse Events (AEs)', 'studiesCount': 169}, {'value': 'Patient satisfaction', 'studiesCount': 166}, {'value': 'OS', 'studiesCount': 163}, {'value': 'Number of patients with adverse events', 'studiesCount': 162}, {'value': 'Recruitment', 'studiesCount': 160}, {'value': 'All cause mortality', 'studiesCount': 157}, {'value': 'Number of Adverse Events', 'studiesCount': 156}, {'value': 'Incidence of Adverse Events', 'studiesCount': 155}, {'value': 'Body composition', 'studiesCount': 153}, {'value': 'Incidence of adverse events (AEs)', 'studiesCount': 153}, {'value': 'Visual acuity', 'studiesCount': 153}, {'value': 'Complications', 'studiesCount': 152}, {'value': 'Muscle strength', 'studiesCount': 151}, {'value': 'MTD', 'studiesCount': 150}, {'value': 'Number of participants with treatment-related adverse events as assessed by CTCAE v4.0', 'studiesCount': 149}, {'value': 'Retention rate', 'studiesCount': 147}, {'value': 'Height', 'studiesCount': 146}, {'value': 'Event-free survival', 'studiesCount': 144}, {'value': 'progression free survival', 'studiesCount': 144}, {'value': 'Range of motion', 'studiesCount': 141}, {'value': 'Heart rate variability', 'studiesCount': 140}, {'value': 'Pittsburgh Sleep Quality Index', 'studiesCount': 139}, {'value': 'Clinical pregnancy rate', 'studiesCount': 138}, {'value': 'Numeric Pain Rating Scale', 'studiesCount': 138}, {'value': 'DLT', 'studiesCount': 137}, {'value': 'Insulin sensitivity', 'studiesCount': 136}, {'value': 'Peak Plasma Concentration (Cmax)', 'studiesCount': 135}, {'value': 'Specificity', 'studiesCount': 135}, {'value': 'Maximum observed plasma concentration (Cmax)', 'studiesCount': 134}, {'value': 'Number of adverse events', 'studiesCount': 132}, {'value': 'Patient Satisfaction', 'studiesCount': 132}, {'value': 'Body mass index', 'studiesCount': 131}, {'value': 'Visual Acuity', 'studiesCount': 130}, {'value': 'Disability', 'studiesCount': 129}, {'value': 'Recruitment Rate', 'studiesCount': 129}, {'value': 'Number of Participants with Adverse Events (AEs)', 'studiesCount': 127}, {'value': 'Body Mass Index (BMI)', 'studiesCount': 125}, {'value': 'Progression-Free Survival', 'studiesCount': 125}, {'value': 'Sleep quality', 'studiesCount': 124}, {'value': 'Cognitive function', 'studiesCount': 122}, {'value': 'Postoperative complications', 'studiesCount': 122}, {'value': 'Dose limiting toxicity (DLT)', 'studiesCount': 121}, {'value': 'Neck Disability Index', 'studiesCount': 120}, {'value': 'VAS', 'studiesCount': 120}, {'value': 'Maximum Plasma Concentration (Cmax)', 'studiesCount': 119}, {'value': 'Physical Activity', 'studiesCount': 118}, {'value': 'Mortality rate', 'studiesCount': 117}, {'value': 'Adverse Events (AEs)', 'studiesCount': 116}, {'value': 'Pittsburgh Sleep Quality Index (PSQI)', 'studiesCount': 116}, {'value': 'Range of Motion', 'studiesCount': 116}, {'value': 'Waist circumference', 'studiesCount': 116}, {'value': 'Number of participants with adverse events (AEs)', 'studiesCount': 115}, {'value': 'Systolic blood pressure', 'studiesCount': 114}, {'value': 'Perceived Stress Scale', 'studiesCount': 113}, {'value': 'Body Weight', 'studiesCount': 112}, {'value': 'response rate', 'studiesCount': 112}, {'value': 'Change in body weight', 'studiesCount': 111}, {'value': 'Pharmacokinetics', 'studiesCount': 111}, {'value': 'Recommended Phase 2 Dose (RP2D)', 'studiesCount': 111}, {'value': 'Depressive symptoms', 'studiesCount': 110}, {'value': 'Number of Participants with Adverse Events', 'studiesCount': 110}, {'value': 'Numeric Pain Rating Scale (NPRS)', 'studiesCount': 110}, {'value': 'AUC0-∞', 'studiesCount': 109}, {'value': 'Adverse events (AEs)', 'studiesCount': 109}, {'value': 'Number of Participants with Adverse Events as a Measure of Safety and Tolerability', 'studiesCount': 109}, {'value': 'Oswestry Disability Index', 'studiesCount': 109}, {'value': 'blood pressure', 'studiesCount': 109}, {'value': 'Systolic Blood Pressure', 'studiesCount': 108}, {'value': 'Accuracy', 'studiesCount': 107}, {'value': 'Diagnostic accuracy', 'studiesCount': 107}, {'value': 'Dose Limiting Toxicity (DLT)', 'studiesCount': 107}, {'value': 'Hemoglobin A1c', 'studiesCount': 107}, {'value': 'AUClast', 'studiesCount': 106}, {'value': 'Incidence of treatment-emergent adverse events (TEAEs)', 'studiesCount': 106}, {'value': 'Number of Participants With Adverse Events (AEs) and Serious Adverse Events (SAEs)', 'studiesCount': 106}, {'value': 'Sleep Quality', 'studiesCount': 106}, {'value': 'RP2D', 'studiesCount': 105}, {'value': 'Operative time', 'studiesCount': 104}, {'value': 'Opioid consumption', 'studiesCount': 102}, {'value': 'Vital signs', 'studiesCount': 101}, {'value': 'Compliance', 'studiesCount': 100}, {'value': 'Response', 'studiesCount': 100}, {'value': 'Time to progression', 'studiesCount': 100}, {'value': 'postoperative pain', 'studiesCount': 100}, {'value': 'Length of stay', 'studiesCount': 99}, {'value': 'Number of subjects with adverse events', 'studiesCount': 99}, {'value': 'Live birth rate', 'studiesCount': 98}, {'value': 'Number of Participants With Treatment-Emergent Adverse Events (TEAEs)', 'studiesCount': 97}, {'value': 'Oswestry Disability Index (ODI)', 'studiesCount': 97}, {'value': 'Recurrence', 'studiesCount': 97}, {'value': 'MACE', 'studiesCount': 96}, {'value': 'objective response rate', 'studiesCount': 96}, {'value': 'Maximum plasma concentration (Cmax)', 'studiesCount': 95}, {'value': 'Pain Score', 'studiesCount': 95}, {'value': 'Primary Safety Endpoint', 'studiesCount': 94}, {'value': 'Stress', 'studiesCount': 94}, {'value': 'Hemoglobin', 'studiesCount': 93}, {'value': 'Incidence of Adverse Events (AEs)', 'studiesCount': 93}, {'value': 'Incidence of treatment-emergent adverse events', 'studiesCount': 93}, {'value': 'overall response rate', 'studiesCount': 93}, {'value': 'Morbidity', 'studiesCount': 92}, {'value': 'pain intensity', 'studiesCount': 92}, {'value': 'Change in blood pressure', 'studiesCount': 91}, {'value': 'Disease-free survival (DFS)', 'studiesCount': 91}, {'value': 'In-hospital mortality', 'studiesCount': 91}, {'value': 'Muscle Strength', 'studiesCount': 91}, {'value': 'Visual analogue scale', 'studiesCount': 91}, {'value': 'Glucose', 'studiesCount': 90}, {'value': 'Health-related quality of life', 'studiesCount': 90}, {'value': 'Event-free survival (EFS)', 'studiesCount': 88}, {'value': 'Oxygen saturation', 'studiesCount': 88}, {'value': 'Pregnancy rate', 'studiesCount': 88}, {'value': 'Recurrence rate', 'studiesCount': 88}, {'value': 'Technical success', 'studiesCount': 88}, {'value': 'Weight Loss', 'studiesCount': 88}, {'value': 'Body Composition', 'studiesCount': 87}, {'value': 'Postoperative Pain', 'studiesCount': 87}, {'value': 'all cause mortality', 'studiesCount': 87}, {'value': 'death', 'studiesCount': 87}, {'value': 'weight loss', 'studiesCount': 87}, {'value': 'Serious Adverse Events', 'studiesCount': 86}, {'value': 'Age', 'studiesCount': 85}, {'value': 'Insomnia Severity Index (ISI)', 'studiesCount': 85}, {'value': 'Triglycerides', 'studiesCount': 84}, {'value': 'heart rate', 'studiesCount': 84}, {'value': 'Area under the plasma concentration versus time curve (AUC)', 'studiesCount': 83}, {'value': 'Blood loss', 'studiesCount': 83}, {'value': 'Bone mineral density', 'studiesCount': 83}, {'value': 'Dose-limiting toxicity', 'studiesCount': 83}, {'value': 'Heart Rate Variability', 'studiesCount': 83}, {'value': 'Hospital Anxiety and Depression Scale (HADS)', 'studiesCount': 83}, {'value': 'Incidence and severity of adverse events', 'studiesCount': 83}, {'value': 'adverse events', 'studiesCount': 83}, {'value': 'Grip strength', 'studiesCount': 82}, {'value': 'Pain level', 'studiesCount': 82}, {'value': 'pain', 'studiesCount': 81}, {'value': 'Change in Weight', 'studiesCount': 80}, {'value': 'Dose Limiting Toxicity', 'studiesCount': 80}, {'value': 'Retention Rate', 'studiesCount': 80}, {'value': 'Safety and adverse events (AEs)', 'studiesCount': 80}, {'value': 'AUC0-inf', 'studiesCount': 79}, {'value': 'Complete response rate', 'studiesCount': 79}, {'value': 'Disease Control Rate (DCR)', 'studiesCount': 79}, {'value': 'Insulin Sensitivity', 'studiesCount': 79}, {'value': 'Number of Participants With Treatment-emergent Adverse Events (TEAEs)', 'studiesCount': 79}, {'value': 'Patient Health Questionnaire-9 (PHQ-9)', 'studiesCount': 79}, {'value': 'clinical pregnancy rate', 'studiesCount': 79}, {'value': 'Effectiveness', 'studiesCount': 78}, {'value': 'Exercise capacity', 'studiesCount': 78}, {'value': 'Goniometer', 'studiesCount': 78}, {'value': 'Incidence of Adverse Events, Graded According to National Cancer Institute Common Terminology Criteria for Adverse Events (NCI CTCAE) Version (v) 5.0', 'studiesCount': 78}, {'value': 'Number of Participants With Dose Limiting Toxicities (DLTs)', 'studiesCount': 78}, {'value': 'Number of Participants With Serious Adverse Events (SAEs)', 'studiesCount': 78}, {'value': 'Respiratory rate', 'studiesCount': 78}, {'value': 'Survival rate', 'studiesCount': 78}, {'value': '28-day mortality', 'studiesCount': 77}, {'value': 'Functional capacity', 'studiesCount': 77}, {'value': 'Primary Outcome', 'studiesCount': 77}]"
   ]
  },
  {
   "cell_type": "code",
   "execution_count": 63,
   "id": "5c435f1c",
   "metadata": {},
   "outputs": [
    {
     "data": {
      "text/plain": [
       "array([\"[{'value': 'Overall survival', 'studiesCount': 1244}, {'value': 'Mortality', 'studiesCount': 946}, {'value': 'Overall Survival', 'studiesCount': 838}, {'value': 'Cmax', 'studiesCount': 834}, {'value': 'Objective Response Rate (ORR)', 'studiesCount': 762}, {'value': 'Overall Survival (OS)', 'studiesCount': 689}, {'value': 'Adverse events', 'studiesCount': 672}, {'value': 'Progression-free survival', 'studiesCount': 662}, {'value': 'Adverse Events', 'studiesCount': 611}, {'value': 'Safety', 'studiesCount': 605}, {'value': 'Incidence of adverse events', 'studiesCount': 574}, {'value': 'Objective response rate (ORR)', 'studiesCount': 548}, {'value': 'Progression Free Survival (PFS)', 'studiesCount': 523}, {'value': 'PFS', 'studiesCount': 509}, {'value': 'Progression-free survival (PFS)', 'studiesCount': 497}, {'value': 'ORR', 'studiesCount': 477}, {'value': 'Overall survival (OS)', 'studiesCount': 445}, {'value': 'Survival', 'studiesCount': 441}, {'value': 'Progression Free Survival', 'studiesCount': 440}, {'value': 'Blood pressure', 'studiesCount': 434}, {'value': 'Progression free survival', 'studiesCount': 426}, {'value': 'Pain intensity', 'studiesCount': 425}, {'value': 'HbA1c', 'studiesCount': 422}, {'value': 'Maximum Tolerated Dose (MTD)', 'studiesCount': 417}, {'value': 'Overall Response Rate (ORR)', 'studiesCount': 411}, {'value': 'Objective Response Rate', 'studiesCount': 409}, {'value': 'Objective response rate', 'studiesCount': 391}, {'value': 'overall survival', 'studiesCount': 387}, {'value': 'Response rate', 'studiesCount': 370}, {'value': 'Acceptability', 'studiesCount': 362}, {'value': 'Maximum tolerated dose (MTD)', 'studiesCount': 352}, {'value': 'Progression-Free Survival (PFS)', 'studiesCount': 349}, {'value': 'Weight', 'studiesCount': 347}, {'value': 'Number of Participants With Adverse Events', 'studiesCount': 337}, {'value': 'Anxiety', 'studiesCount': 336}, {'value': 'Heart rate', 'studiesCount': 335}, {'value': 'Overall Response Rate', 'studiesCount': 331}, {'value': 'Pain', 'studiesCount': 324}, {'value': 'Depression', 'studiesCount': 308}, {'value': 'All-cause mortality', 'studiesCount': 297}, {'value': 'Progression-free Survival (PFS)', 'studiesCount': 295}, {'value': 'Quality of life', 'studiesCount': 295}, {'value': 'Overall response rate', 'studiesCount': 292}, {'value': 'Recruitment rate', 'studiesCount': 292}, {'value': 'Visual Analog Scale', 'studiesCount': 291}, {'value': 'Retention', 'studiesCount': 288}, {'value': 'Death', 'studiesCount': 287}, {'value': 'Progression free survival (PFS)', 'studiesCount': 269}, {'value': 'Overall response rate (ORR)', 'studiesCount': 261}, {'value': 'Visual Analogue Scale', 'studiesCount': 254}, {'value': 'Blood Pressure', 'studiesCount': 252}, {'value': 'Adherence', 'studiesCount': 249}, {'value': 'Bioequivalence', 'studiesCount': 246}, {'value': 'Visual Analog Scale (VAS)', 'studiesCount': 244}, {'value': 'Number of participants with adverse events', 'studiesCount': 241}, {'value': 'Body weight', 'studiesCount': 240}, {'value': 'Progression-free Survival', 'studiesCount': 239}, {'value': 'Incidence of Treatment-Emergent Adverse Events', 'studiesCount': 236}, {'value': 'Disease-free survival', 'studiesCount': 232}, {'value': 'Feasibility', 'studiesCount': 232}, {'value': 'Maximum tolerated dose', 'studiesCount': 228}, {'value': 'Maximum Observed Plasma Concentration (Cmax)', 'studiesCount': 226}, {'value': 'Safety and tolerability', 'studiesCount': 226}, {'value': 'Tmax', 'studiesCount': 224}, {'value': 'Response Rate', 'studiesCount': 221}, {'value': 'AUC', 'studiesCount': 217}, {'value': 'Efficacy', 'studiesCount': 216}, {'value': 'Balance', 'studiesCount': 213}, {'value': 'Pain Intensity', 'studiesCount': 210}, {'value': 'mortality', 'studiesCount': 210}, {'value': 'Berg Balance Scale', 'studiesCount': 196}, {'value': 'Heart Rate', 'studiesCount': 194}, {'value': 'Sensitivity', 'studiesCount': 194}, {'value': 'Dose-limiting toxicity (DLT)', 'studiesCount': 193}, {'value': 'Maximum Tolerated Dose', 'studiesCount': 192}, {'value': 'Safety and Tolerability', 'studiesCount': 192}, {'value': 'BMI', 'studiesCount': 187}, {'value': 'Visual Analogue Scale (VAS)', 'studiesCount': 186}, {'value': 'Change in HbA1c', 'studiesCount': 185}, {'value': 'AUC0-t', 'studiesCount': 180}, {'value': 'Toxicity', 'studiesCount': 179}, {'value': 'Disease free survival', 'studiesCount': 178}, {'value': 'Fatigue', 'studiesCount': 178}, {'value': 'Incidence of Treatment-Emergent Adverse Events [Safety and Tolerability]', 'studiesCount': 177}, {'value': 'Postoperative pain', 'studiesCount': 177}, {'value': 'Weight loss', 'studiesCount': 177}, {'value': 'Length of hospital stay', 'studiesCount': 175}, {'value': 'Physical activity', 'studiesCount': 175}, {'value': 'Pain score', 'studiesCount': 173}, {'value': 'Quality of Life', 'studiesCount': 171}, {'value': 'progression-free survival', 'studiesCount': 171}, {'value': 'Body Mass Index', 'studiesCount': 170}, {'value': 'Number of Participants With Adverse Events (AEs)', 'studiesCount': 169}, {'value': 'Patient satisfaction', 'studiesCount': 166}, {'value': 'OS', 'studiesCount': 163}, {'value': 'Number of patients with adverse events', 'studiesCount': 162}, {'value': 'Recruitment', 'studiesCount': 160}, {'value': 'All cause mortality', 'studiesCount': 157}, {'value': 'Number of Adverse Events', 'studiesCount': 156}, {'value': 'Incidence of Adverse Events', 'studiesCount': 155}, {'value': 'Body composition', 'studiesCount': 153}, {'value': 'Incidence of adverse events (AEs)', 'studiesCount': 153}, {'value': 'Visual acuity', 'studiesCount': 153}, {'value': 'Complications', 'studiesCount': 152}, {'value': 'Muscle strength', 'studiesCount': 151}, {'value': 'MTD', 'studiesCount': 150}, {'value': 'Number of participants with treatment-related adverse events as assessed by CTCAE v4.0', 'studiesCount': 149}, {'value': 'Retention rate', 'studiesCount': 147}, {'value': 'Height', 'studiesCount': 146}, {'value': 'Event-free survival', 'studiesCount': 144}, {'value': 'progression free survival', 'studiesCount': 144}, {'value': 'Range of motion', 'studiesCount': 141}, {'value': 'Heart rate variability', 'studiesCount': 140}, {'value': 'Pittsburgh Sleep Quality Index', 'studiesCount': 139}, {'value': 'Clinical pregnancy rate', 'studiesCount': 138}, {'value': 'Numeric Pain Rating Scale', 'studiesCount': 138}, {'value': 'DLT', 'studiesCount': 137}, {'value': 'Insulin sensitivity', 'studiesCount': 136}, {'value': 'Peak Plasma Concentration (Cmax)', 'studiesCount': 135}, {'value': 'Specificity', 'studiesCount': 135}, {'value': 'Maximum observed plasma concentration (Cmax)', 'studiesCount': 134}, {'value': 'Number of adverse events', 'studiesCount': 132}, {'value': 'Patient Satisfaction', 'studiesCount': 132}, {'value': 'Body mass index', 'studiesCount': 131}, {'value': 'Visual Acuity', 'studiesCount': 130}, {'value': 'Disability', 'studiesCount': 129}, {'value': 'Recruitment Rate', 'studiesCount': 129}, {'value': 'Number of Participants with Adverse Events (AEs)', 'studiesCount': 127}, {'value': 'Body Mass Index (BMI)', 'studiesCount': 125}, {'value': 'Progression-Free Survival', 'studiesCount': 125}, {'value': 'Sleep quality', 'studiesCount': 124}, {'value': 'Cognitive function', 'studiesCount': 122}, {'value': 'Postoperative complications', 'studiesCount': 122}, {'value': 'Dose limiting toxicity (DLT)', 'studiesCount': 121}, {'value': 'Neck Disability Index', 'studiesCount': 120}, {'value': 'VAS', 'studiesCount': 120}, {'value': 'Maximum Plasma Concentration (Cmax)', 'studiesCount': 119}, {'value': 'Physical Activity', 'studiesCount': 118}, {'value': 'Mortality rate', 'studiesCount': 117}, {'value': 'Adverse Events (AEs)', 'studiesCount': 116}, {'value': 'Pittsburgh Sleep Quality Index (PSQI)', 'studiesCount': 116}, {'value': 'Range of Motion', 'studiesCount': 116}, {'value': 'Waist circumference', 'studiesCount': 116}, {'value': 'Number of participants with adverse events (AEs)', 'studiesCount': 115}, {'value': 'Systolic blood pressure', 'studiesCount': 114}, {'value': 'Perceived Stress Scale', 'studiesCount': 113}, {'value': 'Body Weight', 'studiesCount': 112}, {'value': 'response rate', 'studiesCount': 112}, {'value': 'Change in body weight', 'studiesCount': 111}, {'value': 'Pharmacokinetics', 'studiesCount': 111}, {'value': 'Recommended Phase 2 Dose (RP2D)', 'studiesCount': 111}, {'value': 'Depressive symptoms', 'studiesCount': 110}, {'value': 'Number of Participants with Adverse Events', 'studiesCount': 110}, {'value': 'Numeric Pain Rating Scale (NPRS)', 'studiesCount': 110}, {'value': 'AUC0-∞', 'studiesCount': 109}, {'value': 'Adverse events (AEs)', 'studiesCount': 109}, {'value': 'Number of Participants with Adverse Events as a Measure of Safety and Tolerability', 'studiesCount': 109}, {'value': 'Oswestry Disability Index', 'studiesCount': 109}, {'value': 'blood pressure', 'studiesCount': 109}, {'value': 'Systolic Blood Pressure', 'studiesCount': 108}, {'value': 'Accuracy', 'studiesCount': 107}, {'value': 'Diagnostic accuracy', 'studiesCount': 107}, {'value': 'Dose Limiting Toxicity (DLT)', 'studiesCount': 107}, {'value': 'Hemoglobin A1c', 'studiesCount': 107}, {'value': 'AUClast', 'studiesCount': 106}, {'value': 'Incidence of treatment-emergent adverse events (TEAEs)', 'studiesCount': 106}, {'value': 'Number of Participants With Adverse Events (AEs) and Serious Adverse Events (SAEs)', 'studiesCount': 106}, {'value': 'Sleep Quality', 'studiesCount': 106}, {'value': 'RP2D', 'studiesCount': 105}, {'value': 'Operative time', 'studiesCount': 104}, {'value': 'Opioid consumption', 'studiesCount': 102}, {'value': 'Vital signs', 'studiesCount': 101}, {'value': 'Compliance', 'studiesCount': 100}, {'value': 'Response', 'studiesCount': 100}, {'value': 'Time to progression', 'studiesCount': 100}, {'value': 'postoperative pain', 'studiesCount': 100}, {'value': 'Length of stay', 'studiesCount': 99}, {'value': 'Number of subjects with adverse events', 'studiesCount': 99}, {'value': 'Live birth rate', 'studiesCount': 98}, {'value': 'Number of Participants With Treatment-Emergent Adverse Events (TEAEs)', 'studiesCount': 97}, {'value': 'Oswestry Disability Index (ODI)', 'studiesCount': 97}, {'value': 'Recurrence', 'studiesCount': 97}, {'value': 'MACE', 'studiesCount': 96}, {'value': 'objective response rate', 'studiesCount': 96}, {'value': 'Maximum plasma concentration (Cmax)', 'studiesCount': 95}, {'value': 'Pain Score', 'studiesCount': 95}, {'value': 'Primary Safety Endpoint', 'studiesCount': 94}, {'value': 'Stress', 'studiesCount': 94}, {'value': 'Hemoglobin', 'studiesCount': 93}, {'value': 'Incidence of Adverse Events (AEs)', 'studiesCount': 93}, {'value': 'Incidence of treatment-emergent adverse events', 'studiesCount': 93}, {'value': 'overall response rate', 'studiesCount': 93}, {'value': 'Morbidity', 'studiesCount': 92}, {'value': 'pain intensity', 'studiesCount': 92}, {'value': 'Change in blood pressure', 'studiesCount': 91}, {'value': 'Disease-free survival (DFS)', 'studiesCount': 91}, {'value': 'In-hospital mortality', 'studiesCount': 91}, {'value': 'Muscle Strength', 'studiesCount': 91}, {'value': 'Visual analogue scale', 'studiesCount': 91}, {'value': 'Glucose', 'studiesCount': 90}, {'value': 'Health-related quality of life', 'studiesCount': 90}, {'value': 'Event-free survival (EFS)', 'studiesCount': 88}, {'value': 'Oxygen saturation', 'studiesCount': 88}, {'value': 'Pregnancy rate', 'studiesCount': 88}, {'value': 'Recurrence rate', 'studiesCount': 88}, {'value': 'Technical success', 'studiesCount': 88}, {'value': 'Weight Loss', 'studiesCount': 88}, {'value': 'Body Composition', 'studiesCount': 87}, {'value': 'Postoperative Pain', 'studiesCount': 87}, {'value': 'all cause mortality', 'studiesCount': 87}, {'value': 'death', 'studiesCount': 87}, {'value': 'weight loss', 'studiesCount': 87}, {'value': 'Serious Adverse Events', 'studiesCount': 86}, {'value': 'Age', 'studiesCount': 85}, {'value': 'Insomnia Severity Index (ISI)', 'studiesCount': 85}, {'value': 'Triglycerides', 'studiesCount': 84}, {'value': 'heart rate', 'studiesCount': 84}, {'value': 'Area under the plasma concentration versus time curve (AUC)', 'studiesCount': 83}, {'value': 'Blood loss', 'studiesCount': 83}, {'value': 'Bone mineral density', 'studiesCount': 83}, {'value': 'Dose-limiting toxicity', 'studiesCount': 83}, {'value': 'Heart Rate Variability', 'studiesCount': 83}, {'value': 'Hospital Anxiety and Depression Scale (HADS)', 'studiesCount': 83}, {'value': 'Incidence and severity of adverse events', 'studiesCount': 83}, {'value': 'adverse events', 'studiesCount': 83}, {'value': 'Grip strength', 'studiesCount': 82}, {'value': 'Pain level', 'studiesCount': 82}, {'value': 'pain', 'studiesCount': 81}, {'value': 'Change in Weight', 'studiesCount': 80}, {'value': 'Dose Limiting Toxicity', 'studiesCount': 80}, {'value': 'Retention Rate', 'studiesCount': 80}, {'value': 'Safety and adverse events (AEs)', 'studiesCount': 80}, {'value': 'AUC0-inf', 'studiesCount': 79}, {'value': 'Complete response rate', 'studiesCount': 79}, {'value': 'Disease Control Rate (DCR)', 'studiesCount': 79}, {'value': 'Insulin Sensitivity', 'studiesCount': 79}, {'value': 'Number of Participants With Treatment-emergent Adverse Events (TEAEs)', 'studiesCount': 79}, {'value': 'Patient Health Questionnaire-9 (PHQ-9)', 'studiesCount': 79}, {'value': 'clinical pregnancy rate', 'studiesCount': 79}, {'value': 'Effectiveness', 'studiesCount': 78}, {'value': 'Exercise capacity', 'studiesCount': 78}, {'value': 'Goniometer', 'studiesCount': 78}, {'value': 'Incidence of Adverse Events, Graded According to National Cancer Institute Common Terminology Criteria for Adverse Events (NCI CTCAE) Version (v) 5.0', 'studiesCount': 78}, {'value': 'Number of Participants With Dose Limiting Toxicities (DLTs)', 'studiesCount': 78}, {'value': 'Number of Participants With Serious Adverse Events (SAEs)', 'studiesCount': 78}, {'value': 'Respiratory rate', 'studiesCount': 78}, {'value': 'Survival rate', 'studiesCount': 78}, {'value': '28-day mortality', 'studiesCount': 77}, {'value': 'Functional capacity', 'studiesCount': 77}, {'value': 'Primary Outcome', 'studiesCount': 77}]\"],\n",
       "      dtype=object)"
      ]
     },
     "execution_count": 63,
     "metadata": {},
     "output_type": "execute_result"
    }
   ],
   "source": [
    "import numpy as np\n",
    "import pandas as pd\n",
    "import ast\n",
    "\n",
    "# Your original NumPy array\n",
    "arrr = primary[\"topValues\"].values\n",
    "arr = np.array(arrr)\n",
    "arr\n"
   ]
  },
  {
   "cell_type": "code",
   "execution_count": 64,
   "id": "d108cf32",
   "metadata": {},
   "outputs": [
    {
     "name": "stdout",
     "output_type": "stream",
     "text": [
      "                           value  studiesCount\n",
      "0               Overall survival          1244\n",
      "1                      Mortality           946\n",
      "2               Overall Survival           838\n",
      "3                           Cmax           834\n",
      "4  Objective Response Rate (ORR)           762\n",
      "(250, 2)\n"
     ]
    }
   ],
   "source": [
    "import ast\n",
    "import pandas as pd\n",
    "\n",
    "# start with an empty list to collect everything\n",
    "all_items = []\n",
    "\n",
    "for cell in study_vals:\n",
    "    # if it's a string, parse it into a Python list of dicts\n",
    "    if isinstance(cell, str):\n",
    "        parsed = ast.literal_eval(cell)\n",
    "    else:\n",
    "        parsed = cell  # already a list/dict\n",
    "    \n",
    "    # add each dict in the list to our collector\n",
    "    all_items.extend(parsed)\n",
    "\n",
    "# turn into a DataFrame\n",
    "df_topvalues = pd.DataFrame(all_items)\n",
    "\n",
    "print(df_topvalues.head())\n",
    "print(df_topvalues.shape)   # check how many rows you got\n"
   ]
  },
  {
   "cell_type": "code",
   "execution_count": 66,
   "id": "cc1758fc",
   "metadata": {},
   "outputs": [
    {
     "name": "stdout",
     "output_type": "stream",
     "text": [
      "                             value  studiesCount\n",
      "0                 Overall survival          1244\n",
      "1                        Mortality           946\n",
      "2                 Overall Survival           838\n",
      "3                             Cmax           834\n",
      "4    Objective Response Rate (ORR)           762\n",
      "..                             ...           ...\n",
      "245               Respiratory rate            78\n",
      "246                  Survival rate            78\n",
      "247               28-day mortality            77\n",
      "248            Functional capacity            77\n",
      "249                Primary Outcome            77\n",
      "\n",
      "[250 rows x 2 columns]\n"
     ]
    }
   ],
   "source": [
    "import ast\n",
    "import pandas as pd\n",
    "\n",
    "df_topvalues = pd.DataFrame(\n",
    "    [d for cell in study_vals for d in (ast.literal_eval(cell) if isinstance(cell, str) else cell)]\n",
    ")\n",
    "\n",
    "print(df_topvalues)\n"
   ]
  },
  {
   "cell_type": "code",
   "execution_count": 68,
   "id": "e9b95148",
   "metadata": {},
   "outputs": [
    {
     "name": "stdout",
     "output_type": "stream",
     "text": [
      "       Strategy  N_Patients  Deaths  Percent_Deaths  Percent_Survival\n",
      "0      Invasive         388      27             7.0              93.0\n",
      "1  Conservative         389      31             8.0              92.0\n"
     ]
    }
   ],
   "source": [
    "import pandas as pd\n",
    "\n",
    "# Create the data as a dictionary\n",
    "data = {\n",
    "    \"Strategy\": [\"Invasive\", \"Conservative\"],\n",
    "    \"N_Patients\": [388, 389],\n",
    "    \"Deaths\": [27, 31],\n",
    "    \"Percent_Deaths\": [7.0, 8.0]\n",
    "}\n",
    "\n",
    "# Convert dictionary to DataFrame\n",
    "df = pd.DataFrame(data)\n",
    "\n",
    "\n",
    "\n",
    "# If you want to calculate survival instead of deaths\n",
    "df[\"Percent_Survival\"] = 100 - df[\"Percent_Deaths\"]\n",
    "print(df)\n"
   ]
  },
  {
   "cell_type": "code",
   "execution_count": 69,
   "id": "4f4b7d01",
   "metadata": {},
   "outputs": [],
   "source": [
    "import numpy as np\n",
    "import pandas as pd\n",
    "import matplotlib.pyplot as plt\n",
    "\n",
    "# Example numbers (replace with the actual counts from ClinicalTrials.gov)\n",
    "n_invasive, deaths_invasive = 388, 27\n",
    "n_conservative, deaths_conservative = 389, 31\n",
    "\n",
    "# Survival outcomes: 1 = survived, 0 = died\n",
    "invasive_data = np.array([1] * (n_invasive - deaths_invasive) + [0] * deaths_invasive)\n",
    "conservative_data = np.array([1] * (n_conservative - deaths_conservative) + [0] * deaths_conservative)\n",
    "\n",
    "# Bootstrap resampling\n",
    "n_boot = 10000\n",
    "boot_invasive = np.random.choice(invasive_data, size=(n_boot, n_invasive), replace=True).mean(axis=1)\n",
    "boot_conservative = np.random.choice(conservative_data, size=(n_boot, n_conservative), replace=True).mean(axis=1)\n",
    "\n",
    "# Convert to percentages\n",
    "boot_invasive *= 100\n",
    "boot_conservative *= 100\n"
   ]
  },
  {
   "cell_type": "code",
   "execution_count": 70,
   "id": "c0e9f08f",
   "metadata": {},
   "outputs": [
    {
     "data": {
      "image/png": "[encoded data removed]",
      "text/plain": [
       "<Figure size 800x500 with 1 Axes>"
      ]
     },
     "metadata": {},
     "output_type": "display_data"
    }
   ],
   "source": [
    "plt.figure(figsize=(8,5))\n",
    "plt.hist(boot_invasive, bins=50, density=True, histtype=\"step\", label=\"Invasive (KDE approx)\")\n",
    "plt.hist(boot_conservative, bins=50, density=True, histtype=\"step\", label=\"Conservative (KDE approx)\")\n",
    "plt.xlabel(\"Bootstrapped Survival Rate (%)\")\n",
    "plt.ylabel(\"Density\")\n",
    "plt.title(\"Bootstrap KDEs of Survival Rates\")\n",
    "plt.legend()\n",
    "plt.show()\n"
   ]
  },
  {
   "cell_type": "code",
   "execution_count": 71,
   "id": "4dfe07f8",
   "metadata": {},
   "outputs": [],
   "source": [
    "import numpy as np\n",
    "import matplotlib.pyplot as plt\n",
    "\n",
    "# Example counts (replace with actual trial numbers!)\n",
    "n_invasive, deaths_invasive = 388, 27\n",
    "n_conservative, deaths_conservative = 389, 31\n",
    "\n",
    "# Create patient-level outcomes\n",
    "invasive_data = np.array([1] * (n_invasive - deaths_invasive) + [0] * deaths_invasive)\n",
    "conservative_data = np.array([1] * (n_conservative - deaths_conservative) + [0] * deaths_conservative)\n",
    "\n",
    "# Bootstrap\n",
    "n_boot = 10000\n",
    "boot_invasive = np.random.choice(invasive_data, size=(n_boot, n_invasive), replace=True).mean(axis=1)\n",
    "boot_conservative = np.random.choice(conservative_data, size=(n_boot, n_conservative), replace=True).mean(axis=1)\n",
    "\n",
    "# Difference in survival rates\n",
    "boot_diff = (boot_invasive - boot_conservative) * 100  # percentage difference\n"
   ]
  },
  {
   "cell_type": "code",
   "execution_count": 72,
   "id": "b82f4a03",
   "metadata": {},
   "outputs": [
    {
     "data": {
      "image/png": "[encoded data removed]",
      "text/plain": [
       "<Figure size 800x500 with 1 Axes>"
      ]
     },
     "metadata": {},
     "output_type": "display_data"
    }
   ],
   "source": [
    "plt.figure(figsize=(8,5))\n",
    "plt.hist(boot_diff, bins=50, density=True, histtype=\"step\", color=\"purple\", label=\"Difference (Invasive - Conservative)\")\n",
    "plt.axvline(0, color=\"black\", linestyle=\"--\", label=\"No difference\")\n",
    "plt.xlabel(\"Difference in Survival Rate (%)\")\n",
    "plt.ylabel(\"Density\")\n",
    "plt.title(\"Bootstrap Distribution of Difference in Survival Rates\")\n",
    "plt.legend()\n",
    "plt.show()\n"
   ]
  }
 ],
 "metadata": {
  "kernelspec": {
   "display_name": "ds6001",
   "language": "python",
   "name": "python3"
  },
  "language_info": {
   "codemirror_mode": {
    "name": "ipython",
    "version": 3
   },
   "file_extension": ".py",
   "mimetype": "text/x-python",
   "name": "python",
   "nbconvert_exporter": "python",
   "pygments_lexer": "ipython3",
   "version": "3.13.5"
  }
 },
 "nbformat": 4,
 "nbformat_minor": 5
}
